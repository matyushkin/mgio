{
 "cells": [
  {
   "cell_type": "markdown",
   "metadata": {},
   "source": [
    " # 🐨 matyushkin.github.io\n",
    "\n",
    "Jupyter-блокноты позволяют удобным образом сочетать возможности различных языков, включая команды терминала. Данный файл создан для автоматизации работы с проектами [matyushkin.github.io](https://matyushkin.github.io/): генерации из шаблонов, профайлинга, парсинга, тестов. Для сборки используются шабоны на основе [11ty](https://www.11ty.dev/)."
   ]
  },
  {
   "cell_type": "code",
   "execution_count": 34,
   "metadata": {},
   "outputs": [
    {
     "name": "stdout",
     "output_type": "stream",
     "text": [
      "Writing ../../matyushkin.github.io/404/index.html from ./404.html.\n",
      "Writing ../../matyushkin.github.io/README/index.html from ./README.md.\n",
      "Writing ../../matyushkin.github.io/index.html from ./index.html.\n",
      "Writing ../../matyushkin.github.io/cv/index.html from ./cv/index.html.\n",
      "Writing ../../matyushkin.github.io/donate/index.html from ./donate/index.html.\n",
      "Writing ../../matyushkin.github.io/events/index.html from ./events/index.html.\n",
      "Writing ../../matyushkin.github.io/links/index.html from ./links/index.html.\n",
      "Writing ../../matyushkin.github.io/spb/index.html from ./spb/index.html.\n",
      "Writing ../../matyushkin.github.io/posts/index.html from ./posts/index.html.\n",
      "Writing ../../matyushkin.github.io/texts/index.html from ./texts/index.html.\n",
      "Writing ../../matyushkin.github.io/posts/source/template/index.html from ./posts/source/template.html.\n",
      "Copied 21 files / Wrote 11 files in 0.18 seconds (16.4ms each, v0.11.0)\n"
     ]
    }
   ],
   "source": [
    "!cd 11ty; npx eleventy --passthroughall --output=../../matyushkin.github.io\n",
    "!cd ../matyushkin.github.io/; rm -rf 404, README"
   ]
  },
  {
   "cell_type": "markdown",
   "metadata": {},
   "source": [
    "Посмотрим, что получилось в браузере."
   ]
  },
  {
   "cell_type": "code",
   "execution_count": 35,
   "metadata": {},
   "outputs": [
    {
     "data": {
      "text/plain": [
       "True"
      ]
     },
     "execution_count": 35,
     "metadata": {},
     "output_type": "execute_result"
    }
   ],
   "source": [
    "import webbrowser\n",
    "url = \"../matyushkin.github.io/index.html\"\n",
    "webbrowser.open_new_tab(url)"
   ]
  },
  {
   "cell_type": "markdown",
   "metadata": {},
   "source": [
    "# Загружаем на GitHub"
   ]
  },
  {
   "cell_type": "code",
   "execution_count": 47,
   "metadata": {},
   "outputs": [
    {
     "name": "stdout",
     "output_type": "stream",
     "text": [
      "[master 9202e51] Links section is updated\n",
      " 7 files changed, 6 insertions(+), 7 deletions(-)\n",
      " delete mode 100644 README/index.html\n",
      "Counting objects: 13, done.\n",
      "Delta compression using up to 8 threads.\n",
      "Compressing objects: 100% (11/11), done.\n",
      "Writing objects: 100% (13/13), 1.86 KiB | 952.00 KiB/s, done.\n",
      "Total 13 (delta 8), reused 0 (delta 0)\n",
      "remote: Resolving deltas: 100% (8/8), completed with 7 local objects.\u001b[K\n",
      "To github.com:matyushkin/matyushkin.github.io.git\n",
      "   ed499c7..9202e51  master -> master\n"
     ]
    }
   ],
   "source": [
    "! cd ../matyushkin.github.io/; git add . ; git commit -m \"Links section is updated\"; git push origin master"
   ]
  },
  {
   "cell_type": "code",
   "execution_count": null,
   "metadata": {},
   "outputs": [],
   "source": []
  }
 ],
 "metadata": {
  "kernelspec": {
   "display_name": "Python 3",
   "language": "python",
   "name": "python3"
  },
  "language_info": {
   "codemirror_mode": {
    "name": "ipython",
    "version": 3
   },
   "file_extension": ".py",
   "mimetype": "text/x-python",
   "name": "python",
   "nbconvert_exporter": "python",
   "pygments_lexer": "ipython3",
   "version": "3.7.6"
  }
 },
 "nbformat": 4,
 "nbformat_minor": 4
}
