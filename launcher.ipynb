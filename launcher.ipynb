{
 "cells": [
  {
   "cell_type": "markdown",
   "metadata": {},
   "source": [
    " # 🐨 matyushkin.github.io\n",
    "\n",
    "Jupyter-блокноты позволяют удобным образом сочетать возможности различных языков, включая команды терминала. Данный файл создан для автоматизации работы с проектами [matyushkin.github.io](https://matyushkin.github.io/): генерации из шаблонов, профайлинга, парсинга, тестов. Для сборки используются шабоны на основе [11ty](https://www.11ty.dev/)."
   ]
  },
  {
   "cell_type": "code",
   "execution_count": 64,
   "metadata": {},
   "outputs": [
    {
     "name": "stdout",
     "output_type": "stream",
     "text": [
      "Writing ../../matyushkin.github.io/README/index.html from ./README.md.\n",
      "Writing ../../matyushkin.github.io/404/index.html from ./404.html.\n",
      "Writing ../../matyushkin.github.io/index.html from ./index.html.\n",
      "Writing ../../matyushkin.github.io/donate/index.html from ./donate/index.html.\n",
      "Writing ../../matyushkin.github.io/cv/index.html from ./cv/index.html.\n",
      "Writing ../../matyushkin.github.io/events/index.html from ./events/index.html.\n",
      "Writing ../../matyushkin.github.io/posts/index.html from ./posts/index.html.\n",
      "Writing ../../matyushkin.github.io/links/index.html from ./links/index.html.\n",
      "Writing ../../matyushkin.github.io/texts/index.html from ./texts/index.html.\n",
      "Writing ../../matyushkin.github.io/spb/index.html from ./spb/index.html.\n",
      "Copied 15 files / Wrote 10 files in 0.17 seconds (17.0ms each, v0.11.0)\n"
     ]
    },
    {
     "data": {
      "text/plain": [
       "True"
      ]
     },
     "execution_count": 64,
     "metadata": {},
     "output_type": "execute_result"
    }
   ],
   "source": [
    "!cd 11ty; npx eleventy --passthroughall --output=../../matyushkin.github.io\n",
    "!cd ../matyushkin.github.io/; rm -rf 404\n",
    "!cd ../matyushkin.github.io/; rm -rf README\n",
    "\n",
    "\n",
    "# посмотрим, что получилось в браузере\n",
    "import webbrowser\n",
    "url = \"../matyushkin.github.io/posts/index.html\"\n",
    "webbrowser.open(url)"
   ]
  },
  {
   "cell_type": "markdown",
   "metadata": {},
   "source": [
    "# Загружаем на GitHub"
   ]
  },
  {
   "cell_type": "code",
   "execution_count": 63,
   "metadata": {},
   "outputs": [
    {
     "name": "stdout",
     "output_type": "stream",
     "text": [
      "[master 5d68907] Header navigation bar is updated\n",
      " 1 file changed, 5 insertions(+), 3 deletions(-)\n",
      "Counting objects: 3, done.\n",
      "Delta compression using up to 8 threads.\n",
      "Compressing objects: 100% (3/3), done.\n",
      "Writing objects: 100% (3/3), 384 bytes | 384.00 KiB/s, done.\n",
      "Total 3 (delta 2), reused 0 (delta 0)\n",
      "remote: Resolving deltas: 100% (2/2), completed with 2 local objects.\u001b[K\n",
      "To github.com:matyushkin/matyushkin.github.io.git\n",
      "   f4fa7bc..5d68907  master -> master\n"
     ]
    }
   ],
   "source": [
    "! cd ../matyushkin.github.io/; git add . ; git commit -m \"Header navigation bar is updated\"; git push origin master"
   ]
  },
  {
   "cell_type": "code",
   "execution_count": null,
   "metadata": {},
   "outputs": [],
   "source": []
  }
 ],
 "metadata": {
  "kernelspec": {
   "display_name": "Python 3",
   "language": "python",
   "name": "python3"
  },
  "language_info": {
   "codemirror_mode": {
    "name": "ipython",
    "version": 3
   },
   "file_extension": ".py",
   "mimetype": "text/x-python",
   "name": "python",
   "nbconvert_exporter": "python",
   "pygments_lexer": "ipython3",
   "version": "3.7.6"
  }
 },
 "nbformat": 4,
 "nbformat_minor": 4
}
